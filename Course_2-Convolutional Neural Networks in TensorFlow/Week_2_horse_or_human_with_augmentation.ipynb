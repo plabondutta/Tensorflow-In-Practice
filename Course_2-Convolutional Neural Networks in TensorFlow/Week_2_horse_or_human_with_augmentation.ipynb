{
  "nbformat": 4,
  "nbformat_minor": 0,
  "metadata": {
    "accelerator": "GPU",
    "colab": {
      "name": "Course 2 - Part 4 - Lesson 4 - Notebook.ipynb",
      "provenance": [],
      "collapsed_sections": [],
      "toc_visible": true
    },
    "kernelspec": {
      "display_name": "Python 3",
      "name": "python3"
    }
  },
  "cells": [
    {
      "cell_type": "markdown",
      "metadata": {
        "colab_type": "text",
        "id": "rX8mhOLljYeM"
      },
      "source": [
        "##### Copyright 2019 The TensorFlow Authors."
      ]
    },
    {
      "cell_type": "code",
      "metadata": {
        "cellView": "form",
        "colab_type": "code",
        "id": "BZSlp3DAjdYf",
        "colab": {}
      },
      "source": [
        "#@title Licensed under the Apache License, Version 2.0 (the \"License\");\n",
        "# you may not use this file except in compliance with the License.\n",
        "# You may obtain a copy of the License at\n",
        "#\n",
        "# https://www.apache.org/licenses/LICENSE-2.0\n",
        "#\n",
        "# Unless required by applicable law or agreed to in writing, software\n",
        "# distributed under the License is distributed on an \"AS IS\" BASIS,\n",
        "# WITHOUT WARRANTIES OR CONDITIONS OF ANY KIND, either express or implied.\n",
        "# See the License for the specific language governing permissions and\n",
        "# limitations under the License."
      ],
      "execution_count": 2,
      "outputs": []
    },
    {
      "cell_type": "code",
      "metadata": {
        "colab_type": "code",
        "id": "RXZT2UsyIVe_",
        "colab": {
          "base_uri": "https://localhost:8080/",
          "height": 391
        },
        "outputId": "385d5929-e5f1-4f73-ad12-36f4c6dce400"
      },
      "source": [
        "!wget --no-check-certificate \\\n",
        "    https://storage.googleapis.com/laurencemoroney-blog.appspot.com/horse-or-human.zip \\\n",
        "    -O /tmp/horse-or-human.zip\n",
        "\n",
        "!wget --no-check-certificate \\\n",
        "    https://storage.googleapis.com/laurencemoroney-blog.appspot.com/validation-horse-or-human.zip \\\n",
        "    -O /tmp/validation-horse-or-human.zip\n",
        "  \n",
        "import os\n",
        "import zipfile\n",
        "\n",
        "local_zip = '/tmp/horse-or-human.zip'\n",
        "zip_ref = zipfile.ZipFile(local_zip, 'r')\n",
        "zip_ref.extractall('/tmp/horse-or-human')\n",
        "local_zip = '/tmp/validation-horse-or-human.zip'\n",
        "zip_ref = zipfile.ZipFile(local_zip, 'r')\n",
        "zip_ref.extractall('/tmp/validation-horse-or-human')\n",
        "zip_ref.close()\n",
        "# Directory with our training horse pictures\n",
        "train_horse_dir = os.path.join('/tmp/horse-or-human/horses')\n",
        "\n",
        "# Directory with our training human pictures\n",
        "train_human_dir = os.path.join('/tmp/horse-or-human/humans')\n",
        "\n",
        "# Directory with our training horse pictures\n",
        "validation_horse_dir = os.path.join('/tmp/validation-horse-or-human/horses')\n",
        "\n",
        "# Directory with our training human pictures\n",
        "validation_human_dir = os.path.join('/tmp/validation-horse-or-human/humans')"
      ],
      "execution_count": 1,
      "outputs": [
        {
          "output_type": "stream",
          "text": [
            "--2020-08-15 18:39:04--  https://storage.googleapis.com/laurencemoroney-blog.appspot.com/horse-or-human.zip\n",
            "Resolving storage.googleapis.com (storage.googleapis.com)... 108.177.119.128, 108.177.126.128, 108.177.127.128, ...\n",
            "Connecting to storage.googleapis.com (storage.googleapis.com)|108.177.119.128|:443... connected.\n",
            "HTTP request sent, awaiting response... 200 OK\n",
            "Length: 149574867 (143M) [application/zip]\n",
            "Saving to: ‘/tmp/horse-or-human.zip’\n",
            "\n",
            "/tmp/horse-or-human 100%[===================>] 142.65M  70.7MB/s    in 2.0s    \n",
            "\n",
            "2020-08-15 18:39:07 (70.7 MB/s) - ‘/tmp/horse-or-human.zip’ saved [149574867/149574867]\n",
            "\n",
            "--2020-08-15 18:39:09--  https://storage.googleapis.com/laurencemoroney-blog.appspot.com/validation-horse-or-human.zip\n",
            "Resolving storage.googleapis.com (storage.googleapis.com)... 173.194.79.128, 108.177.119.128, 108.177.126.128, ...\n",
            "Connecting to storage.googleapis.com (storage.googleapis.com)|173.194.79.128|:443... connected.\n",
            "HTTP request sent, awaiting response... 200 OK\n",
            "Length: 11480187 (11M) [application/zip]\n",
            "Saving to: ‘/tmp/validation-horse-or-human.zip’\n",
            "\n",
            "/tmp/validation-hor 100%[===================>]  10.95M  33.3MB/s    in 0.3s    \n",
            "\n",
            "2020-08-15 18:39:09 (33.3 MB/s) - ‘/tmp/validation-horse-or-human.zip’ saved [11480187/11480187]\n",
            "\n"
          ],
          "name": "stdout"
        }
      ]
    },
    {
      "cell_type": "markdown",
      "metadata": {
        "colab_type": "text",
        "id": "5oqBkNBJmtUv"
      },
      "source": [
        "## Building a Small Model from Scratch\n",
        "\n",
        "But before we continue, let's start defining the model:\n",
        "\n",
        "Step 1 will be to import tensorflow."
      ]
    },
    {
      "cell_type": "code",
      "metadata": {
        "colab_type": "code",
        "id": "qvfZg3LQbD-5",
        "colab": {}
      },
      "source": [
        "import tensorflow as tf"
      ],
      "execution_count": 3,
      "outputs": []
    },
    {
      "cell_type": "markdown",
      "metadata": {
        "colab_type": "text",
        "id": "BnhYCP4tdqjC"
      },
      "source": [
        "We then add convolutional layers as in the previous example, and flatten the final result to feed into the densely connected layers."
      ]
    },
    {
      "cell_type": "markdown",
      "metadata": {
        "colab_type": "text",
        "id": "gokG5HKpdtzm"
      },
      "source": [
        "Finally we add the densely connected layers. \n",
        "\n",
        "Note that because we are facing a two-class classification problem, i.e. a *binary classification problem*, we will end our network with a [*sigmoid* activation](https://wikipedia.org/wiki/Sigmoid_function), so that the output of our network will be a single scalar between 0 and 1, encoding the probability that the current image is class 1 (as opposed to class 0)."
      ]
    },
    {
      "cell_type": "code",
      "metadata": {
        "colab_type": "code",
        "id": "PixZ2s5QbYQ3",
        "colab": {}
      },
      "source": [
        "model = tf.keras.models.Sequential([\n",
        "    # Note the input shape is the desired size of the image 300x300 with 3 bytes color\n",
        "    # This is the first convolution\n",
        "    tf.keras.layers.Conv2D(16, (3,3), activation='relu', input_shape=(300, 300, 3)),\n",
        "    tf.keras.layers.MaxPooling2D(2, 2),\n",
        "    # The second convolution\n",
        "    tf.keras.layers.Conv2D(32, (3,3), activation='relu'),\n",
        "    tf.keras.layers.MaxPooling2D(2,2),\n",
        "    # The third convolution\n",
        "    tf.keras.layers.Conv2D(64, (3,3), activation='relu'),\n",
        "    tf.keras.layers.MaxPooling2D(2,2),\n",
        "    # The fourth convolution\n",
        "    tf.keras.layers.Conv2D(64, (3,3), activation='relu'),\n",
        "    tf.keras.layers.MaxPooling2D(2,2),\n",
        "    # The fifth convolution\n",
        "    tf.keras.layers.Conv2D(64, (3,3), activation='relu'),\n",
        "    tf.keras.layers.MaxPooling2D(2,2),\n",
        "    # Flatten the results to feed into a DNN\n",
        "    tf.keras.layers.Flatten(),\n",
        "    # 512 neuron hidden layer\n",
        "    tf.keras.layers.Dense(512, activation='relu'),\n",
        "    # Only 1 output neuron. It will contain a value from 0-1 where 0 for 1 class ('horses') and 1 for the other ('humans')\n",
        "    tf.keras.layers.Dense(1, activation='sigmoid')\n",
        "])"
      ],
      "execution_count": 4,
      "outputs": []
    },
    {
      "cell_type": "code",
      "metadata": {
        "colab_type": "code",
        "id": "8DHWhFP_uhq3",
        "colab": {}
      },
      "source": [
        "from tensorflow.keras.optimizers import RMSprop\n",
        "\n",
        "model.compile(loss='binary_crossentropy',\n",
        "              optimizer=RMSprop(lr=1e-4),\n",
        "              metrics=['accuracy'])"
      ],
      "execution_count": 5,
      "outputs": []
    },
    {
      "cell_type": "code",
      "metadata": {
        "colab_type": "code",
        "id": "ClebU9NJg99G",
        "colab": {
          "base_uri": "https://localhost:8080/",
          "height": 51
        },
        "outputId": "a64d4743-aa13-4ea0-ce52-a931f4671f70"
      },
      "source": [
        "from tensorflow.keras.preprocessing.image import ImageDataGenerator\n",
        "\n",
        "# All images will be rescaled by 1./255\n",
        "train_datagen = ImageDataGenerator(\n",
        "      rescale=1./255,\n",
        "      rotation_range=40,\n",
        "      width_shift_range=0.2,\n",
        "      height_shift_range=0.2,\n",
        "      shear_range=0.2,\n",
        "      zoom_range=0.2,\n",
        "      horizontal_flip=True,\n",
        "      fill_mode='nearest')\n",
        "\n",
        "validation_datagen = ImageDataGenerator(rescale=1/255)\n",
        "\n",
        "# Flow training images in batches of 128 using train_datagen generator\n",
        "train_generator = train_datagen.flow_from_directory(\n",
        "        '/tmp/horse-or-human/',  # This is the source directory for training images\n",
        "        target_size=(300, 300),  # All images will be resized to 150x150\n",
        "        batch_size=128,\n",
        "        # Since we use binary_crossentropy loss, we need binary labels\n",
        "        class_mode='binary')\n",
        "\n",
        "# Flow training images in batches of 128 using train_datagen generator\n",
        "validation_generator = validation_datagen.flow_from_directory(\n",
        "        '/tmp/validation-horse-or-human/',  # This is the source directory for training images\n",
        "        target_size=(300, 300),  # All images will be resized to 150x150\n",
        "        batch_size=32,\n",
        "        # Since we use binary_crossentropy loss, we need binary labels\n",
        "        class_mode='binary')"
      ],
      "execution_count": 6,
      "outputs": [
        {
          "output_type": "stream",
          "text": [
            "Found 1027 images belonging to 2 classes.\n",
            "Found 256 images belonging to 2 classes.\n"
          ],
          "name": "stdout"
        }
      ]
    },
    {
      "cell_type": "code",
      "metadata": {
        "colab_type": "code",
        "id": "Fb1_lgobv81m",
        "colab": {
          "base_uri": "https://localhost:8080/",
          "height": 1000
        },
        "outputId": "4e3f46f8-c13e-454c-ebba-d82a6ede41a4"
      },
      "source": [
        "history = model.fit(\n",
        "      train_generator,\n",
        "      steps_per_epoch=8,  \n",
        "      epochs=100,\n",
        "      verbose=1,\n",
        "      validation_data = validation_generator,\n",
        "      validation_steps=8)"
      ],
      "execution_count": 7,
      "outputs": [
        {
          "output_type": "stream",
          "text": [
            "Epoch 1/100\n",
            "2/8 [======>.......................] - ETA: 0s - loss: 0.6890 - accuracy: 0.5625WARNING:tensorflow:Callbacks method `on_train_batch_end` is slow compared to the batch time (batch time: 0.0631s vs `on_train_batch_end` time: 0.1052s). Check your callbacks.\n",
            "8/8 [==============================] - 17s 2s/step - loss: 0.6862 - accuracy: 0.5406 - val_loss: 0.6625 - val_accuracy: 0.8242\n",
            "Epoch 2/100\n",
            "8/8 [==============================] - 21s 3s/step - loss: 0.6570 - accuracy: 0.6196 - val_loss: 0.6430 - val_accuracy: 0.6992\n",
            "Epoch 3/100\n",
            "8/8 [==============================] - 18s 2s/step - loss: 0.6173 - accuracy: 0.7075 - val_loss: 0.6641 - val_accuracy: 0.5078\n",
            "Epoch 4/100\n",
            "8/8 [==============================] - 18s 2s/step - loss: 0.5979 - accuracy: 0.6785 - val_loss: 0.6352 - val_accuracy: 0.5391\n",
            "Epoch 5/100\n",
            "8/8 [==============================] - 18s 2s/step - loss: 0.5891 - accuracy: 0.7097 - val_loss: 0.7562 - val_accuracy: 0.5000\n",
            "Epoch 6/100\n",
            "8/8 [==============================] - 18s 2s/step - loss: 0.5509 - accuracy: 0.7330 - val_loss: 0.8835 - val_accuracy: 0.5000\n",
            "Epoch 7/100\n",
            "8/8 [==============================] - 18s 2s/step - loss: 0.5275 - accuracy: 0.7319 - val_loss: 0.6218 - val_accuracy: 0.5859\n",
            "Epoch 8/100\n",
            "8/8 [==============================] - 20s 3s/step - loss: 0.5355 - accuracy: 0.7402 - val_loss: 0.9222 - val_accuracy: 0.5000\n",
            "Epoch 9/100\n",
            "8/8 [==============================] - 18s 2s/step - loss: 0.5184 - accuracy: 0.7597 - val_loss: 0.8908 - val_accuracy: 0.5078\n",
            "Epoch 10/100\n",
            "8/8 [==============================] - 20s 3s/step - loss: 0.5127 - accuracy: 0.7500 - val_loss: 0.9145 - val_accuracy: 0.5078\n",
            "Epoch 11/100\n",
            "8/8 [==============================] - 18s 2s/step - loss: 0.5373 - accuracy: 0.7297 - val_loss: 0.8044 - val_accuracy: 0.5312\n",
            "Epoch 12/100\n",
            "8/8 [==============================] - 18s 2s/step - loss: 0.4913 - accuracy: 0.7731 - val_loss: 1.0756 - val_accuracy: 0.5039\n",
            "Epoch 13/100\n",
            "8/8 [==============================] - 18s 2s/step - loss: 0.5306 - accuracy: 0.7508 - val_loss: 0.9163 - val_accuracy: 0.5234\n",
            "Epoch 14/100\n",
            "8/8 [==============================] - 18s 2s/step - loss: 0.4467 - accuracy: 0.7942 - val_loss: 1.5125 - val_accuracy: 0.5000\n",
            "Epoch 15/100\n",
            "8/8 [==============================] - 18s 2s/step - loss: 0.4749 - accuracy: 0.7653 - val_loss: 0.8355 - val_accuracy: 0.5664\n",
            "Epoch 16/100\n",
            "8/8 [==============================] - 18s 2s/step - loss: 0.4616 - accuracy: 0.7842 - val_loss: 1.0505 - val_accuracy: 0.5430\n",
            "Epoch 17/100\n",
            "8/8 [==============================] - 18s 2s/step - loss: 0.4293 - accuracy: 0.8131 - val_loss: 1.3862 - val_accuracy: 0.5117\n",
            "Epoch 18/100\n",
            "8/8 [==============================] - 18s 2s/step - loss: 0.4379 - accuracy: 0.7842 - val_loss: 0.9949 - val_accuracy: 0.5703\n",
            "Epoch 19/100\n",
            "8/8 [==============================] - 18s 2s/step - loss: 0.4179 - accuracy: 0.8165 - val_loss: 1.2893 - val_accuracy: 0.5508\n",
            "Epoch 20/100\n",
            "8/8 [==============================] - 18s 2s/step - loss: 0.3925 - accuracy: 0.8365 - val_loss: 1.0190 - val_accuracy: 0.5781\n",
            "Epoch 21/100\n",
            "8/8 [==============================] - 18s 2s/step - loss: 0.4334 - accuracy: 0.7831 - val_loss: 1.2702 - val_accuracy: 0.5547\n",
            "Epoch 22/100\n",
            "8/8 [==============================] - 18s 2s/step - loss: 0.3884 - accuracy: 0.8209 - val_loss: 0.9440 - val_accuracy: 0.6172\n",
            "Epoch 23/100\n",
            "8/8 [==============================] - 18s 2s/step - loss: 0.3629 - accuracy: 0.8487 - val_loss: 1.3632 - val_accuracy: 0.5625\n",
            "Epoch 24/100\n",
            "8/8 [==============================] - 18s 2s/step - loss: 0.3976 - accuracy: 0.8209 - val_loss: 2.7213 - val_accuracy: 0.5000\n",
            "Epoch 25/100\n",
            "8/8 [==============================] - 18s 2s/step - loss: 0.4633 - accuracy: 0.7709 - val_loss: 1.3449 - val_accuracy: 0.5664\n",
            "Epoch 26/100\n",
            "8/8 [==============================] - 18s 2s/step - loss: 0.3615 - accuracy: 0.8509 - val_loss: 1.4842 - val_accuracy: 0.5547\n",
            "Epoch 27/100\n",
            "8/8 [==============================] - 18s 2s/step - loss: 0.3691 - accuracy: 0.8398 - val_loss: 1.4769 - val_accuracy: 0.5625\n",
            "Epoch 28/100\n",
            "8/8 [==============================] - 21s 3s/step - loss: 0.3525 - accuracy: 0.8543 - val_loss: 1.5459 - val_accuracy: 0.5586\n",
            "Epoch 29/100\n",
            "8/8 [==============================] - 18s 2s/step - loss: 0.3091 - accuracy: 0.8754 - val_loss: 2.5435 - val_accuracy: 0.5117\n",
            "Epoch 30/100\n",
            "8/8 [==============================] - 18s 2s/step - loss: 0.4128 - accuracy: 0.8087 - val_loss: 1.3570 - val_accuracy: 0.5977\n",
            "Epoch 31/100\n",
            "8/8 [==============================] - 21s 3s/step - loss: 0.3060 - accuracy: 0.8877 - val_loss: 1.5878 - val_accuracy: 0.5703\n",
            "Epoch 32/100\n",
            "8/8 [==============================] - 21s 3s/step - loss: 0.3237 - accuracy: 0.8699 - val_loss: 1.4457 - val_accuracy: 0.5977\n",
            "Epoch 33/100\n",
            "8/8 [==============================] - 20s 3s/step - loss: 0.3022 - accuracy: 0.8652 - val_loss: 1.8909 - val_accuracy: 0.5508\n",
            "Epoch 34/100\n",
            "8/8 [==============================] - 18s 2s/step - loss: 0.4050 - accuracy: 0.7964 - val_loss: 1.4278 - val_accuracy: 0.5859\n",
            "Epoch 35/100\n",
            "8/8 [==============================] - 18s 2s/step - loss: 0.3080 - accuracy: 0.8676 - val_loss: 2.2694 - val_accuracy: 0.5273\n",
            "Epoch 36/100\n",
            "8/8 [==============================] - 18s 2s/step - loss: 0.3548 - accuracy: 0.8554 - val_loss: 1.5707 - val_accuracy: 0.5586\n",
            "Epoch 37/100\n",
            "8/8 [==============================] - 18s 2s/step - loss: 0.2900 - accuracy: 0.8810 - val_loss: 1.6507 - val_accuracy: 0.5781\n",
            "Epoch 38/100\n",
            "8/8 [==============================] - 18s 2s/step - loss: 0.3669 - accuracy: 0.8476 - val_loss: 1.9658 - val_accuracy: 0.5625\n",
            "Epoch 39/100\n",
            "8/8 [==============================] - 18s 2s/step - loss: 0.2620 - accuracy: 0.8966 - val_loss: 2.0717 - val_accuracy: 0.5625\n",
            "Epoch 40/100\n",
            "8/8 [==============================] - 18s 2s/step - loss: 0.2728 - accuracy: 0.8799 - val_loss: 1.7863 - val_accuracy: 0.5859\n",
            "Epoch 41/100\n",
            "8/8 [==============================] - 18s 2s/step - loss: 0.3145 - accuracy: 0.8509 - val_loss: 1.4896 - val_accuracy: 0.6172\n",
            "Epoch 42/100\n",
            "8/8 [==============================] - 21s 3s/step - loss: 0.2737 - accuracy: 0.8799 - val_loss: 1.9641 - val_accuracy: 0.5742\n",
            "Epoch 43/100\n",
            "8/8 [==============================] - 18s 2s/step - loss: 0.2998 - accuracy: 0.8721 - val_loss: 2.8978 - val_accuracy: 0.5117\n",
            "Epoch 44/100\n",
            "8/8 [==============================] - 18s 2s/step - loss: 0.2833 - accuracy: 0.8832 - val_loss: 1.6508 - val_accuracy: 0.6250\n",
            "Epoch 45/100\n",
            "8/8 [==============================] - 18s 2s/step - loss: 0.2198 - accuracy: 0.9143 - val_loss: 1.4923 - val_accuracy: 0.6641\n",
            "Epoch 46/100\n",
            "8/8 [==============================] - 21s 3s/step - loss: 0.3295 - accuracy: 0.8743 - val_loss: 1.9482 - val_accuracy: 0.5820\n",
            "Epoch 47/100\n",
            "8/8 [==============================] - 18s 2s/step - loss: 0.2268 - accuracy: 0.9055 - val_loss: 2.0313 - val_accuracy: 0.5781\n",
            "Epoch 48/100\n",
            "8/8 [==============================] - 20s 3s/step - loss: 0.2621 - accuracy: 0.8936 - val_loss: 3.0357 - val_accuracy: 0.5117\n",
            "Epoch 49/100\n",
            "8/8 [==============================] - 18s 2s/step - loss: 0.2529 - accuracy: 0.8877 - val_loss: 1.7472 - val_accuracy: 0.6328\n",
            "Epoch 50/100\n",
            "8/8 [==============================] - 18s 2s/step - loss: 0.2879 - accuracy: 0.8754 - val_loss: 1.9817 - val_accuracy: 0.5742\n",
            "Epoch 51/100\n",
            "8/8 [==============================] - 18s 2s/step - loss: 0.2150 - accuracy: 0.9110 - val_loss: 2.2598 - val_accuracy: 0.5898\n",
            "Epoch 52/100\n",
            "8/8 [==============================] - 18s 2s/step - loss: 0.3062 - accuracy: 0.8721 - val_loss: 2.0818 - val_accuracy: 0.5938\n",
            "Epoch 53/100\n",
            "8/8 [==============================] - 18s 2s/step - loss: 0.2929 - accuracy: 0.8687 - val_loss: 2.1239 - val_accuracy: 0.5703\n",
            "Epoch 54/100\n",
            "8/8 [==============================] - 18s 2s/step - loss: 0.2186 - accuracy: 0.9077 - val_loss: 2.5604 - val_accuracy: 0.5586\n",
            "Epoch 55/100\n",
            "8/8 [==============================] - 18s 2s/step - loss: 0.4231 - accuracy: 0.8799 - val_loss: 2.9683 - val_accuracy: 0.5469\n",
            "Epoch 56/100\n",
            "8/8 [==============================] - 18s 2s/step - loss: 0.2294 - accuracy: 0.9021 - val_loss: 2.6967 - val_accuracy: 0.5430\n",
            "Epoch 57/100\n",
            "8/8 [==============================] - 18s 2s/step - loss: 0.2551 - accuracy: 0.9021 - val_loss: 2.6391 - val_accuracy: 0.5547\n",
            "Epoch 58/100\n",
            "8/8 [==============================] - 20s 3s/step - loss: 0.1968 - accuracy: 0.9229 - val_loss: 2.7352 - val_accuracy: 0.5547\n",
            "Epoch 59/100\n",
            "8/8 [==============================] - 21s 3s/step - loss: 0.1898 - accuracy: 0.9288 - val_loss: 3.8462 - val_accuracy: 0.5117\n",
            "Epoch 60/100\n",
            "8/8 [==============================] - 21s 3s/step - loss: 0.2423 - accuracy: 0.9010 - val_loss: 2.3051 - val_accuracy: 0.5898\n",
            "Epoch 61/100\n",
            "8/8 [==============================] - 18s 2s/step - loss: 0.2553 - accuracy: 0.8977 - val_loss: 4.0981 - val_accuracy: 0.5039\n",
            "Epoch 62/100\n",
            "8/8 [==============================] - 18s 2s/step - loss: 0.2213 - accuracy: 0.9121 - val_loss: 2.7064 - val_accuracy: 0.5469\n",
            "Epoch 63/100\n",
            "8/8 [==============================] - 21s 3s/step - loss: 0.2328 - accuracy: 0.9110 - val_loss: 2.4985 - val_accuracy: 0.5781\n",
            "Epoch 64/100\n",
            "8/8 [==============================] - 18s 2s/step - loss: 0.2382 - accuracy: 0.8932 - val_loss: 2.7571 - val_accuracy: 0.5273\n",
            "Epoch 65/100\n",
            "8/8 [==============================] - 18s 2s/step - loss: 0.1957 - accuracy: 0.9255 - val_loss: 1.1272 - val_accuracy: 0.7383\n",
            "Epoch 66/100\n",
            "8/8 [==============================] - 21s 3s/step - loss: 0.1883 - accuracy: 0.9277 - val_loss: 3.0588 - val_accuracy: 0.5273\n",
            "Epoch 67/100\n",
            "8/8 [==============================] - 21s 3s/step - loss: 0.1853 - accuracy: 0.9288 - val_loss: 2.7026 - val_accuracy: 0.5547\n",
            "Epoch 68/100\n",
            "8/8 [==============================] - 18s 2s/step - loss: 0.3473 - accuracy: 0.8788 - val_loss: 2.8981 - val_accuracy: 0.5430\n",
            "Epoch 69/100\n",
            "8/8 [==============================] - 20s 3s/step - loss: 0.1476 - accuracy: 0.9580 - val_loss: 2.5127 - val_accuracy: 0.5742\n",
            "Epoch 70/100\n",
            "8/8 [==============================] - 18s 2s/step - loss: 0.2401 - accuracy: 0.8988 - val_loss: 2.5219 - val_accuracy: 0.5430\n",
            "Epoch 71/100\n",
            "8/8 [==============================] - 18s 2s/step - loss: 0.1538 - accuracy: 0.9333 - val_loss: 3.2450 - val_accuracy: 0.5508\n",
            "Epoch 72/100\n",
            "8/8 [==============================] - 20s 3s/step - loss: 0.1850 - accuracy: 0.9229 - val_loss: 2.4611 - val_accuracy: 0.5898\n",
            "Epoch 73/100\n",
            "8/8 [==============================] - 18s 2s/step - loss: 0.2128 - accuracy: 0.9066 - val_loss: 2.7004 - val_accuracy: 0.5430\n",
            "Epoch 74/100\n",
            "8/8 [==============================] - 18s 2s/step - loss: 0.1567 - accuracy: 0.9444 - val_loss: 1.7186 - val_accuracy: 0.6523\n",
            "Epoch 75/100\n",
            "8/8 [==============================] - 18s 2s/step - loss: 0.2130 - accuracy: 0.9121 - val_loss: 2.4389 - val_accuracy: 0.5938\n",
            "Epoch 76/100\n",
            "8/8 [==============================] - 21s 3s/step - loss: 0.2119 - accuracy: 0.9121 - val_loss: 1.9296 - val_accuracy: 0.6445\n",
            "Epoch 77/100\n",
            "8/8 [==============================] - 18s 2s/step - loss: 0.1811 - accuracy: 0.9188 - val_loss: 2.3346 - val_accuracy: 0.5938\n",
            "Epoch 78/100\n",
            "8/8 [==============================] - 18s 2s/step - loss: 0.1659 - accuracy: 0.9266 - val_loss: 4.0086 - val_accuracy: 0.5195\n",
            "Epoch 79/100\n",
            "8/8 [==============================] - 20s 3s/step - loss: 0.1811 - accuracy: 0.9277 - val_loss: 4.3605 - val_accuracy: 0.5195\n",
            "Epoch 80/100\n",
            "8/8 [==============================] - 18s 2s/step - loss: 0.1665 - accuracy: 0.9266 - val_loss: 1.9077 - val_accuracy: 0.6562\n",
            "Epoch 81/100\n",
            "8/8 [==============================] - 18s 2s/step - loss: 0.1753 - accuracy: 0.9321 - val_loss: 3.3103 - val_accuracy: 0.5469\n",
            "Epoch 82/100\n",
            "8/8 [==============================] - 18s 2s/step - loss: 0.1742 - accuracy: 0.9321 - val_loss: 1.1649 - val_accuracy: 0.7266\n",
            "Epoch 83/100\n",
            "8/8 [==============================] - 21s 3s/step - loss: 0.1975 - accuracy: 0.9210 - val_loss: 3.4244 - val_accuracy: 0.5273\n",
            "Epoch 84/100\n",
            "8/8 [==============================] - 18s 2s/step - loss: 0.1877 - accuracy: 0.9188 - val_loss: 2.8221 - val_accuracy: 0.5820\n",
            "Epoch 85/100\n",
            "8/8 [==============================] - 18s 2s/step - loss: 0.1289 - accuracy: 0.9488 - val_loss: 3.9324 - val_accuracy: 0.5469\n",
            "Epoch 86/100\n",
            "8/8 [==============================] - 18s 2s/step - loss: 0.2324 - accuracy: 0.8977 - val_loss: 2.7581 - val_accuracy: 0.5703\n",
            "Epoch 87/100\n",
            "8/8 [==============================] - 18s 2s/step - loss: 0.1311 - accuracy: 0.9566 - val_loss: 2.9404 - val_accuracy: 0.5898\n",
            "Epoch 88/100\n",
            "8/8 [==============================] - 20s 3s/step - loss: 0.1380 - accuracy: 0.9463 - val_loss: 2.2677 - val_accuracy: 0.6445\n",
            "Epoch 89/100\n",
            "8/8 [==============================] - 18s 2s/step - loss: 0.2062 - accuracy: 0.9121 - val_loss: 2.7956 - val_accuracy: 0.5859\n",
            "Epoch 90/100\n",
            "8/8 [==============================] - 18s 2s/step - loss: 0.1265 - accuracy: 0.9533 - val_loss: 3.9618 - val_accuracy: 0.5273\n",
            "Epoch 91/100\n",
            "8/8 [==============================] - 18s 2s/step - loss: 0.1278 - accuracy: 0.9511 - val_loss: 5.4587 - val_accuracy: 0.5078\n",
            "Epoch 92/100\n",
            "8/8 [==============================] - 18s 2s/step - loss: 0.1562 - accuracy: 0.9433 - val_loss: 1.5308 - val_accuracy: 0.7031\n",
            "Epoch 93/100\n",
            "8/8 [==============================] - 21s 3s/step - loss: 0.1896 - accuracy: 0.9244 - val_loss: 3.6849 - val_accuracy: 0.5391\n",
            "Epoch 94/100\n",
            "8/8 [==============================] - 18s 2s/step - loss: 0.1282 - accuracy: 0.9511 - val_loss: 3.5549 - val_accuracy: 0.5625\n",
            "Epoch 95/100\n",
            "8/8 [==============================] - 21s 3s/step - loss: 0.1602 - accuracy: 0.9377 - val_loss: 3.4907 - val_accuracy: 0.5703\n",
            "Epoch 96/100\n",
            "8/8 [==============================] - 18s 2s/step - loss: 0.1442 - accuracy: 0.9444 - val_loss: 4.2492 - val_accuracy: 0.5312\n",
            "Epoch 97/100\n",
            "8/8 [==============================] - 18s 2s/step - loss: 0.1671 - accuracy: 0.9344 - val_loss: 2.8043 - val_accuracy: 0.5898\n",
            "Epoch 98/100\n",
            "8/8 [==============================] - 18s 2s/step - loss: 0.1087 - accuracy: 0.9633 - val_loss: 6.1058 - val_accuracy: 0.5000\n",
            "Epoch 99/100\n",
            "8/8 [==============================] - 18s 2s/step - loss: 0.2071 - accuracy: 0.9232 - val_loss: 3.6092 - val_accuracy: 0.5625\n",
            "Epoch 100/100\n",
            "8/8 [==============================] - 18s 2s/step - loss: 0.1121 - accuracy: 0.9577 - val_loss: 2.6215 - val_accuracy: 0.6133\n"
          ],
          "name": "stdout"
        }
      ]
    },
    {
      "cell_type": "code",
      "metadata": {
        "colab_type": "code",
        "id": "7zNPRWOVJdOH",
        "colab": {
          "base_uri": "https://localhost:8080/",
          "height": 545
        },
        "outputId": "a15d4608-6c1d-4f83-ff82-fc57d0dd6617"
      },
      "source": [
        "import matplotlib.pyplot as plt\n",
        "acc = history.history['accuracy']\n",
        "val_acc = history.history['val_accuracy']\n",
        "loss = history.history['loss']\n",
        "val_loss = history.history['val_loss']\n",
        "\n",
        "epochs = range(len(acc))\n",
        "\n",
        "plt.plot(epochs, acc, 'r', label='Training accuracy')\n",
        "plt.plot(epochs, val_acc, 'b', label='Validation accuracy')\n",
        "plt.title('Training and validation accuracy')\n",
        "\n",
        "plt.figure()\n",
        "\n",
        "plt.plot(epochs, loss, 'r', label='Training Loss')\n",
        "plt.plot(epochs, val_loss, 'b', label='Validation Loss')\n",
        "plt.title('Training and validation loss')\n",
        "plt.legend()\n",
        "\n",
        "plt.show()"
      ],
      "execution_count": 8,
      "outputs": [
        {
          "output_type": "display_data",
          "data": {
            "image/png": "[encoded data removed]",
            "text/plain": [
              "<Figure size 432x288 with 1 Axes>"
            ]
          },
          "metadata": {
            "tags": [],
            "needs_background": "light"
          }
        },
        {
          "output_type": "display_data",
          "data": {
            "image/png": "[encoded data removed]",
            "text/plain": [
              "<Figure size 432x288 with 1 Axes>"
            ]
          },
          "metadata": {
            "tags": [],
            "needs_background": "light"
          }
        }
      ]
    },
    {
      "cell_type": "code",
      "metadata": {
        "id": "Uai7Wunrdx2p",
        "colab_type": "code",
        "colab": {}
      },
      "source": [
        ""
      ],
      "execution_count": null,
      "outputs": []
    }
  ]
}